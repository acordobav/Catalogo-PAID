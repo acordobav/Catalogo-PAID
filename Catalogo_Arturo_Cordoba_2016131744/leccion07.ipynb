{
 "cells": [
  {
   "cell_type": "code",
   "execution_count": 1,
   "metadata": {},
   "outputs": [],
   "source": [
    "pkg load image\n",
    "pkg load video\n",
    "\n",
    "% V es un objeto que contiene informacion del video\n",
    "V = VideoReader('media/video_original.mp4'); % Comando para cargar un video\n",
    "fr = V.NumberOfFrames; % Numero de Marcos\n",
    "m = V.Height; % Numero de filas de cada marco\n",
    "n = V.Width; % Numero de columnas de cada marco\n",
    "\n",
    "% Se desea redimensionar el tamano de cada marco\n",
    "m = round(m/2); n = round(n/2);\n",
    "\n",
    "% Matriz donde se van a guardar los nuevos marcos redimensionados\n",
    "Y = uint8(zeros(m, n, 3, fr));\n",
    "\n",
    "% Leer el video y guardar cada uno de los marcos en su nuevo tamano\n",
    "for k = 1:fr\n",
    "  Z = readFrame(V); % Leer cada uno de los marcos del video\n",
    "  Y(:, :, 1, k) = imresize(Z(:, :, 1), [m, n]); % Canal rojo\n",
    "  Y(:, :, 2, k) = imresize(Z(:, :, 2), [m, n]); % Canal verde\n",
    "  Y(:, :, 3, k) = imresize(Z(:, :, 3), [m, n]); % Canal azul\n",
    "endfor\n",
    "\n",
    "% imshow(Y(:, :, :, 114))\n",
    "\n",
    "% Crear el nuevo video\n",
    "video = VideoWriter('media/video_salida.mp4'); % Crear el video nuevo (vacio)\n",
    "for i = 1:fr\n",
    "  writeVideo(video, Y(:, :, :, i)); % Agregar cada marco del video\n",
    "endfor\n",
    "\n",
    "close(video);"
   ]
  },
  {
   "cell_type": "code",
   "execution_count": null,
   "metadata": {},
   "outputs": [],
   "source": []
  }
 ],
 "metadata": {
  "kernelspec": {
   "display_name": "Octave",
   "language": "octave",
   "name": "octave"
  },
  "language_info": {
   "file_extension": ".m",
   "help_links": [
    {
     "text": "GNU Octave",
     "url": "https://www.gnu.org/software/octave/support.html"
    },
    {
     "text": "Octave Kernel",
     "url": "https://github.com/Calysto/octave_kernel"
    },
    {
     "text": "MetaKernel Magics",
     "url": "https://metakernel.readthedocs.io/en/latest/source/README.html"
    }
   ],
   "mimetype": "text/x-octave",
   "name": "octave",
   "version": "5.2.0"
  }
 },
 "nbformat": 4,
 "nbformat_minor": 2
}
