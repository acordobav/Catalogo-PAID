{
 "cells": [
  {
   "cell_type": "markdown",
   "metadata": {},
   "source": [
    "# Transformada de Hough: caso específico"
   ]
  },
  {
   "cell_type": "code",
   "execution_count": 1,
   "metadata": {},
   "outputs": [
    {
     "data": {
      "image/png": "[encoded data removed]",
      "text/plain": [
       "<IPython.core.display.Image object>"
      ]
     },
     "metadata": {},
     "output_type": "display_data"
    }
   ],
   "source": [
    "clc; clear; close all;\n",
    "pkg load image;\n",
    "A = imread('media/linea1.jpg');\n",
    "% Convertir en binaria (0=negro, 1=blanco)\n",
    "B = im2double(A);\n",
    "B(B<0.5) = 0; B(B>=0.5) = 1; % Se obtiene una imagen binaria\n",
    "\n",
    "%figure\n",
    "%imshow(B);\n",
    "\n",
    "% Calcular la discretizacion de theta y rho\n",
    "% 1. Theta: Toma valores en el intervalo [0,180]\n",
    "h1 = 1;\n",
    "thetas = deg2rad(0:h1:180);\n",
    "% 2. Rho: Toma valroes en [-d,d], donde d = sqrt(m^2+n^2)\n",
    "%         donde mxn es el tamaño de la imagen\n",
    "[m,n] = size(A);\n",
    "d = sqrt(m^2+n^2);\n",
    "h2 = 1;\n",
    "rhos = -d:h2:d;\n",
    "\n",
    "% Crear matriz acumulador\n",
    "Acumulador = zeros(length(thetas),length(rhos));\n",
    "\n",
    "for x = 1:m\n",
    "  for y = 1:n\n",
    "    if B(x,y)==1\n",
    "      for theta_ind = 1:length(thetas)\n",
    "        theta = thetas(theta_ind);\n",
    "        rho = x*cos(theta)+y*sin(theta);\n",
    "        [~,rho_ind] = min(abs(rhos-rho));\n",
    "        Acumulador(theta_ind,rho_ind)+=1;\n",
    "      endfor      \n",
    "    endif\n",
    "  endfor\n",
    "endfor  \n",
    "\n",
    "%figure\n",
    "%surface(thetas,rhos,Acumulador','EdgeColor','none');\n",
    "%xlabel('Theta');\n",
    "%ylabel('Rho');\n",
    "\n",
    "figure\n",
    "hold on \n",
    "imshow(im2uint8(B));\n",
    "\n",
    "% Encontrar la maxima posicion del Acumulador\n",
    "[xp,yp] = find(Acumulador==max(max(Acumulador)));\n",
    "% Observacion: Si el maximo se repite mas de una vez, entonces\n",
    "% 'x' y 'y' son vectores que tienen las posiciones\n",
    "\n",
    "% Graficar\n",
    "thetaMax = thetas(xp(1));\n",
    "rhoMax = rhos(yp(1));\n",
    "\n",
    "% Calcular pendiente\n",
    "pendiente = -cos(thetaMax)/sin(thetaMax);\n",
    "interseccion = rhoMax/sin(thetaMax);\n",
    "\n",
    "% Necesitamos el punto (1,y1)\n",
    "y1 = pendiente*1 + interseccion;\n",
    "\n",
    "% Necesitamos el punto (xn,n)\n",
    "xn = (n-interseccion)/pendiente;\n",
    "\n",
    "% Para graficar la linea, usamos el comando line\n",
    "line([y1 n],[1 xn],'LineWidth',2);\n"
   ]
  },
  {
   "cell_type": "code",
   "execution_count": 2,
   "metadata": {},
   "outputs": [
    {
     "data": {
      "image/png": "[encoded data removed]",
      "text/plain": [
       "<IPython.core.display.Image object>"
      ]
     },
     "metadata": {},
     "output_type": "display_data"
    }
   ],
   "source": [
    "figure\n",
    "surface(thetas,rhos,Acumulador','EdgeColor','none');\n",
    "xlabel('Theta');\n",
    "ylabel('Rho');"
   ]
  }
 ],
 "metadata": {
  "kernelspec": {
   "display_name": "Octave",
   "language": "octave",
   "name": "octave"
  },
  "language_info": {
   "file_extension": ".m",
   "help_links": [
    {
     "text": "GNU Octave",
     "url": "https://www.gnu.org/software/octave/support.html"
    },
    {
     "text": "Octave Kernel",
     "url": "https://github.com/Calysto/octave_kernel"
    },
    {
     "text": "MetaKernel Magics",
     "url": "https://metakernel.readthedocs.io/en/latest/source/README.html"
    }
   ],
   "mimetype": "text/x-octave",
   "name": "octave",
   "version": "5.2.0"
  }
 },
 "nbformat": 4,
 "nbformat_minor": 4
}
