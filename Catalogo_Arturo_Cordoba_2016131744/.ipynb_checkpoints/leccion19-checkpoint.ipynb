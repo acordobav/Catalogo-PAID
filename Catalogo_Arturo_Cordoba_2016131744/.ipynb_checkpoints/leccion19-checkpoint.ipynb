{
 "cells": [
  {
   "cell_type": "markdown",
   "metadata": {},
   "source": [
    "# Procesamiento de Imágenes Morfológicas\n",
    "La morfología matemática es el área del procesamiento de imágenes que se usa para representar, describir y analizar formas en imágenes.\n",
    "\n",
    "El principio básico de la morfología matemática es obtener/extraer información geométrica información geométrica o topológica de una imagen, a través de transformaciones, utilizando elementos estructurados.\n",
    "\n",
    "Al inicio se trabajará con imágenes binarias, es decir, sus pixeles solo toman valores en el conjunto $\\underbrace{\\{0,255\\}}_\\text{8 bits}$ o $\\underbrace{\\{0,1\\}}_\\text{normalizado}$.\n",
    "\n",
    "**Nota.** Se trabajará solo con imagenes en formato normalizado.\n",
    "\n",
    "## Conceptos fundamentales\n",
    "Sea $A$ una imagen. Sea $z(x,y) \\in A$ donde $(x,y)$ representa la posición de un pixel en la imagen $A$.\n",
    "\n",
    "![title](media/morfologia-conceptos.svg)\n",
    "\n",
    "1) Complemento de $A$: $A^C=\\{z=(x,y)/z \\notin A\\}$\n",
    "\n",
    "![title](media/morfologia-complemento.svg)\n",
    "\n",
    "2) Unión de $A$ y $B$: $A \\cup B = \\{ z=(x,y)/z \\in A \\vee z \\in B \\}$\n",
    "\n",
    "![title](media/morfologia-union.svg)\n",
    "\n",
    "3) Intersección de $A$ y $B$: $A \\cap B = \\{ z=(x,y) / z \\in A \\wedge z \\in B \\}$\n",
    "\n",
    "![title](media/morfologia-interseccion.svg)\n",
    "\n",
    "4) Diferencia de $A$ y $B$: $A-B=\\{z=(x,y)/z \\in A \\wedge z \\notin B\\}=A\\cap B^C$\n",
    "\n",
    "![title](media/morfologia-diferencia.svg)\n",
    "\n",
    "5) Traslación de $A$ por un punto $w=(\\overline{x},\\overline{y})$: $A_w=\\{ c=(x,y)/c=z+w,z \\in A\\}$\n",
    "\n",
    "![title](media/morfologia-traslacion.svg)\n",
    "\n",
    "6) Reflexión: es el conjunto relacionado al origen de un sistema de coordenadas, y se define como $\\hat{A}=\\{z=(x,y)/z=-a,a \\in A\\}$\n",
    "\n",
    "![title](media/morfologia-reflexion.svg)\n",
    "\n",
    "## ¿Cómo hacer las operaciones en Octave?\n",
    "\\begin{array}{|c|c|} \\hline\n",
    "Operación & GNU Octave \\\\\\hline\n",
    "A \\cap B  & A \\& B \\quad \\text{(Conjunción)} \\\\\\hline\n",
    "A \\cup B  & A | B \\quad \\text{(Disyunción)} \\\\\\hline\n",
    "A^C       & \\text{~}A \\quad \\text{(Negación)} \\\\\\hline\n",
    "A - B     & A \\& \\text{~} B \\\\\\hline\n",
    "\\end{array}"
   ]
  },
  {
   "cell_type": "code",
   "execution_count": 1,
   "metadata": {},
   "outputs": [],
   "source": [
    "function Y = binaria(X)\n",
    "  [m,n] = size(X); \n",
    "  Y = zeros(m,n);\n",
    "  for i = 1:m\n",
    "    for j = 1:n\n",
    "      if X(i,j) >= 0.5\n",
    "        Y(i,j) = 1;\n",
    "      endif  \n",
    "    endfor\n",
    "  endfor\n",
    "endfunction"
   ]
  },
  {
   "cell_type": "code",
   "execution_count": 2,
   "metadata": {},
   "outputs": [
    {
     "data": {
      "image/png": "[encoded data removed]",
      "text/plain": [
       "<IPython.core.display.Image object>"
      ]
     },
     "metadata": {},
     "output_type": "display_data"
    }
   ],
   "source": [
    "clc; clear; close all;\n",
    "pkg load image;\n",
    "\n",
    "A = imread('media/imagen2.jpg');\n",
    "A = im2double(A);\n",
    "A = binaria(A);\n",
    "subplot(2,3,1);\n",
    "imshow(A);\n",
    "title('Imagen A');\n",
    "\n",
    "B = imread('media/imagen3.jpg');\n",
    "B = im2double(B);\n",
    "B = binaria(B);\n",
    "subplot(2,3,2);\n",
    "imshow(B);\n",
    "title('Imagen B')\n",
    "\n",
    "subplot(2,3,3);\n",
    "imshow(A&B);\n",
    "title('A \\cap B');\n",
    "\n",
    "subplot(2,3,4);\n",
    "imshow(A|B);\n",
    "title('A \\cup B');\n",
    "\n",
    "subplot(2,3,5);\n",
    "imshow(~A);\n",
    "title('A^c');\n",
    "\n",
    "subplot(2,3,6);\n",
    "imshow(A|~B);\n",
    "title('A-B');"
   ]
  },
  {
   "cell_type": "markdown",
   "metadata": {},
   "source": [
    "## Operación de Dilatación\n",
    "Es una operación que hace crecer o engrosar objetos en una imagen.\n",
    "\n",
    "La dilatación de $A$ y $B$ se denota $A \\oplus B$ y se define como el conjunto\n",
    "\n",
    "\\begin{equation}\n",
    "A \\oplus B = \\{ z=(x,y)/(\\hat{B})_z \\cap A \\neq \\emptyset\\}\n",
    "\\end{equation}\n",
    "\n",
    "donde $B$ es una matriz simétrica.\n",
    "\n",
    "Para definir esta operación, es necesario definir el centro/origen de $B$. Sea $B \\in {\\rm I\\!R}^{m \\times n}$, entonces el centro de $B$ será\n",
    "\n",
    "\\begin{equation}\n",
    "(\\overline{x},\\overline{y})=\\left( \\bigg \\lfloor \\dfrac{m+1}{2} \\bigg \\rfloor, \\bigg \\lfloor \\dfrac{n+1}{2} \\bigg \\rfloor \\right)\n",
    "\\end{equation}\n",
    "\n",
    "donde $\\lfloor w \\rfloor$ es truncar el valor de $w$.\n",
    "\n",
    "**Ejemplo.** Si $B \\in {\\rm I\\!R}^{2 \\times 2}$, entonces\n",
    "\n",
    "\\begin{equation}\n",
    "(\\overline{x},\\overline{y})=\\left( \\bigg \\lfloor \\dfrac{2+1}{2} \\bigg \\rfloor, \\bigg \\lfloor \\dfrac{2+1}{2} \\bigg \\rfloor \\right)\n",
    "\\end{equation}\n",
    "\n",
    "\\begin{equation}\n",
    "(\\overline{x},\\overline{y})=\\left( \\lfloor 1.5 \\rfloor, \\lfloor 1.5 \\rfloor \\right)\n",
    "\\end{equation}\n",
    "\n",
    "\\begin{equation}\n",
    "(\\overline{x},\\overline{y})=\\left( 1,1 \\right)\n",
    "\\end{equation}\n",
    "\n",
    "El proceso de dilatación se puede obtener de la siguiente forma: para cada pixel en $A$ que tenga valor de 1 se superpone la matriz $B$ en el centro y todos los pixeles que abarque la matriz B, toman valor de 1.\n",
    "\n",
    "**Ejemplo.** Sea $A \\in {\\rm I\\!R}^{5 \\times 5}$ y $B \\in {\\rm I\\!R}^{2 \\times 2}$ definidas de la siguiente forma\n",
    "\n",
    "\\begin{equation}\n",
    "A = \\left( \\begin{matrix} \n",
    "0 & 0 & 0 & 0 & 0 \\\\ \n",
    "0 & 1 & 1 & 0 & 0 \\\\ \n",
    "0 & 1 & 1 & 0 & 0 \\\\ \n",
    "0 & 0 & 1 & 0 & 0 \\\\ \n",
    "0 & 0 & 0 & 0 & 0 \n",
    "\\end{matrix} \\right)\n",
    "\\quad\n",
    "B = \\left( \\begin{matrix} \n",
    "\\overbrace{1}^\\text{centro} & 1 \\\\ \n",
    "1 & 1 \n",
    "\\end{matrix} \\right)\n",
    "\\end{equation}\n",
    "\n",
    "\\begin{equation}\n",
    "A \\oplus B = \\left( \\begin{matrix} \n",
    "0 & 0 & 0 & 0 & 0 \\\\ \n",
    "0 & 1 & 1 & \\color{red}{\\text{1}} & 0 \\\\ \n",
    "0 & 1 & 1 & \\color{red}{\\text{1}} & 0 \\\\ \n",
    "0 & \\color{red}{\\text{1}} & 1 & \\color{red}{\\text{1}} & 0 \\\\ \n",
    "0 & 0 & \\color{red}{\\text{1}} & \\color{red}{\\text{1}} & 0 \n",
    "\\end{matrix} \\right)\n",
    "\\end{equation}\n",
    "\n",
    "**Nota.** La matriz $B$ es conocida como elemento estructurado (EE) el cual se recomienda que sea simétrica. Para generar EE se utilizan los comandos ones, zeros y strel."
   ]
  },
  {
   "cell_type": "code",
   "execution_count": 3,
   "metadata": {},
   "outputs": [
    {
     "data": {
      "image/png": "[encoded data removed]",
      "text/plain": [
       "<IPython.core.display.Image object>"
      ]
     },
     "metadata": {},
     "output_type": "display_data"
    }
   ],
   "source": [
    "clc; clear; close all;\n",
    "pkg load image;\n",
    "A = imread('media/imagen-1.jpg');\n",
    "A = im2double(A);\n",
    "A = binaria(A);\n",
    "subplot(1,2,1);\n",
    "imshow(A);\n",
    "title('Imagen original');\n",
    "\n",
    "% B = [ones(2) zeros(2); zeros(2) ones(2)]\n",
    "B = strel('diamond',1);\n",
    "D = imdilate(A,B); % Dilatacion de A y B\n",
    "subplot(1,2,2);\n",
    "imshow(D);\n",
    "title('Imagen Dilatada')"
   ]
  }
 ],
 "metadata": {
  "kernelspec": {
   "display_name": "Octave",
   "language": "octave",
   "name": "octave"
  },
  "language_info": {
   "file_extension": ".m",
   "help_links": [
    {
     "text": "GNU Octave",
     "url": "https://www.gnu.org/software/octave/support.html"
    },
    {
     "text": "Octave Kernel",
     "url": "https://github.com/Calysto/octave_kernel"
    },
    {
     "text": "MetaKernel Magics",
     "url": "https://metakernel.readthedocs.io/en/latest/source/README.html"
    }
   ],
   "mimetype": "text/x-octave",
   "name": "octave",
   "version": "5.2.0"
  }
 },
 "nbformat": 4,
 "nbformat_minor": 4
}
